{
 "cells": [
  {
   "cell_type": "markdown",
   "metadata": {},
   "source": [
    "Data Analysis\n",
    "\n",
    "Pull the following information from NCES Common Core of Data (State, School District (LEA) and School Universe surveys):"
   ]
  },
  {
   "cell_type": "code",
   "execution_count": 3,
   "metadata": {
    "collapsed": false
   },
   "outputs": [
    {
     "name": "stdout",
     "output_type": "stream",
     "text": [
      "Populating the interactive namespace from numpy and matplotlib\n"
     ]
    }
   ],
   "source": [
    "import pandas as pd\n",
    "import pylab as pl\n",
    "import matplotlib.pyplot as plt\n",
    "%pylab inline"
   ]
  },
  {
   "cell_type": "markdown",
   "metadata": {},
   "source": [
    "#### 1. charter schools by county (Name and NCES id)"
   ]
  },
  {
   "cell_type": "code",
   "execution_count": 2,
   "metadata": {
    "collapsed": true
   },
   "outputs": [],
   "source": [
    "# Dataset:\n",
    "# NCES Annual CCD file - Universe Surveys - School - Year 2013 to 2014\n",
    "# https://nces.ed.gov/ccd/pubschuniv.asp\n",
    "# File name 'sc132a.txt' "
   ]
  },
  {
   "cell_type": "code",
   "execution_count": 4,
   "metadata": {
    "collapsed": false
   },
   "outputs": [
    {
     "name": "stdout",
     "output_type": "stream",
     "text": [
      "   SURVYEAR      NCESSCH  FIPST   LEAID  SCHNO STID SEASCH  \\\n",
      "0      2013  10000200277      1  100002    277  210     20   \n",
      "1      2013  10000201402      1  100002   1402  210     25   \n",
      "2      2013  10000201667      1  100002   1667  210     50   \n",
      "3      2013  10000201670      1  100002   1670  210     60   \n",
      "4      2013  10000201705      1  100002   1705  210     30   \n",
      "\n",
      "                    LEANM                            SCHNAM       PHONE  \\\n",
      "0  ALABAMA YOUTH SERVICES  SEQUOYAH SCH - CHALKVILLE CAMPUS  2056808574   \n",
      "1  ALABAMA YOUTH SERVICES      EUFAULA SCH - EUFAULA CAMPUS  3346874441   \n",
      "2  ALABAMA YOUTH SERVICES                             CAMPS  3342153850   \n",
      "3  ALABAMA YOUTH SERVICES                           DET CTR  3342153850   \n",
      "4  ALABAMA YOUTH SERVICES     WALLACE SCH - MT MEIGS CAMPUS  3342156039   \n",
      "\n",
      "      ...     HPALM HPALF TR  TRALM  TRALF TOTETH VIRTUALSTAT NSLPSTATUS  \\\n",
      "0     ...        -1    -1 -1     -1     -1     -1   VIRTUALNO          M   \n",
      "1     ...        -2    -2 -2     -2     -2     -2   VIRTUALNO          M   \n",
      "2     ...        -1    -1 -1     -1     -1     -1   VIRTUALNO          M   \n",
      "3     ...        -1    -1 -1     -1     -1     -1   VIRTUALNO          M   \n",
      "4     ...        -1    -1 -1     -1     -1     -1   VIRTUALNO          M   \n",
      "\n",
      "   CHARTAUTH1  CHARTAUTH2  \n",
      "0           N           N  \n",
      "1           N           N  \n",
      "2           N           N  \n",
      "3           N           N  \n",
      "4           N           N  \n",
      "\n",
      "[5 rows x 312 columns]\n",
      "(102815, 312)\n"
     ]
    },
    {
     "name": "stderr",
     "output_type": "stream",
     "text": [
      "C:\\Users\\jhuan\\Anaconda2\\lib\\site-packages\\IPython\\core\\interactiveshell.py:2723: DtypeWarning: Columns (5,6,9,22,23,26,28,54,55,56) have mixed types. Specify dtype option on import or set low_memory=False.\n",
      "  interactivity=interactivity, compiler=compiler, result=result)\n"
     ]
    }
   ],
   "source": [
    "# Read file\n",
    "df_school = pd.read_table('sc132a.txt')\n",
    "print df_school.head()\n",
    "print df_school.shape"
   ]
  },
  {
   "cell_type": "code",
   "execution_count": 4,
   "metadata": {
    "collapsed": false
   },
   "outputs": [
    {
     "name": "stdout",
     "output_type": "stream",
     "text": [
      "['N' '2' '1' 2L 1L 'M']\n",
      "['N' '2' '1' 'M']\n"
     ]
    }
   ],
   "source": [
    "# Check Charter Status Unique Values\n",
    "print df_school['CHARTR'].unique()\n",
    "print df_school['CHARTR'].astype(\"str\").unique()"
   ]
  },
  {
   "cell_type": "code",
   "execution_count": 5,
   "metadata": {
    "collapsed": true
   },
   "outputs": [],
   "source": [
    "# Column 'CHARTR' value at 1 means charter school\n",
    "# Data type: Results above show some '1' are string type while some '1' are numeric "
   ]
  },
  {
   "cell_type": "code",
   "execution_count": 6,
   "metadata": {
    "collapsed": false
   },
   "outputs": [
    {
     "name": "stdout",
     "output_type": "stream",
     "text": [
      "888\n",
      "6046\n",
      "(6934, 312)\n"
     ]
    }
   ],
   "source": [
    "# Slice data by 'CHARTR' equals 1\n",
    "\n",
    "subset1_1 = df_school[(df_school['CHARTR'] == '1')]\n",
    "a = len(subset1_1)\n",
    "subset1_2 = df_school[(df_school['CHARTR'] == 1)]\n",
    "b = len(subset1_2)\n",
    "\n",
    "subset1 = df_school[(df_school['CHARTR'].astype(\"str\") == '1')]\n",
    "print a\n",
    "print b\n",
    "print subset1.shape"
   ]
  },
  {
   "cell_type": "code",
   "execution_count": 7,
   "metadata": {
    "collapsed": false
   },
   "outputs": [
    {
     "name": "stdout",
     "output_type": "stream",
     "text": [
      "          NCESSCH CONUM                     CONAME  \\\n",
      "1651  20000100329  2050         BETHEL CENSUS AREA   \n",
      "1751  20015000306  2130  KETCHIKAN GATEWAY BOROUGH   \n",
      "1754  20015000523  2130  KETCHIKAN GATEWAY BOROUGH   \n",
      "1822  20018000172  2020     ANCHORAGE MUNICIPALITY   \n",
      "1823  20018000178  2020     ANCHORAGE MUNICIPALITY   \n",
      "\n",
      "                                                 SCHNAM CHARTR  \n",
      "1651                                AYAPRUN ELITNAURVIK      1  \n",
      "1751                           KETCHIKAN CHARTER SCHOOL      1  \n",
      "1754  TONGASS SCHOOL OF ARTS AND SCIENCES CHARTER SC...      1  \n",
      "1822                            AQUARIAN CHARTER SCHOOL      1  \n",
      "1823                  FAMILY PARTNERSHIP CHARTER SCHOOL      1  \n",
      "(6934, 5)\n"
     ]
    }
   ],
   "source": [
    "# Only keep columns: 'NCESSCH' (NCES id) 'CONUM' (county id), 'CONAME' (county name) 'SCHNAM' (school name) and 'CHARTR' (charter status)\n",
    "subset1_result = subset1[['NCESSCH', 'CONUM', 'CONAME', 'SCHNAM', 'CHARTR']]\n",
    "print subset1_result.head()\n",
    "print subset1_result.shape"
   ]
  },
  {
   "cell_type": "code",
   "execution_count": 8,
   "metadata": {
    "collapsed": false
   },
   "outputs": [
    {
     "name": "stdout",
     "output_type": "stream",
     "text": [
      "          NCESSCH CONUM                        CONAME  \\\n",
      "1822  20018000172  2020        ANCHORAGE MUNICIPALITY   \n",
      "1823  20018000178  2020        ANCHORAGE MUNICIPALITY   \n",
      "1833  20018000459  2020        ANCHORAGE MUNICIPALITY   \n",
      "1834  20018000460  2020        ANCHORAGE MUNICIPALITY   \n",
      "1839  20018000530  2020        ANCHORAGE MUNICIPALITY   \n",
      "1844  20018000555  2020        ANCHORAGE MUNICIPALITY   \n",
      "1851  20018000732  2020        ANCHORAGE MUNICIPALITY   \n",
      "1852  20018000736  2020        ANCHORAGE MUNICIPALITY   \n",
      "1651  20000100329  2050            BETHEL CENSUS AREA   \n",
      "2024  20060000162  2090  FAIRBANKS NORTH STAR BOROUGH   \n",
      "\n",
      "                                     SCHNAM CHARTR  \n",
      "1822                AQUARIAN CHARTER SCHOOL      1  \n",
      "1823      FAMILY PARTNERSHIP CHARTER SCHOOL      1  \n",
      "1833                     WINTERBERRY SCHOOL      1  \n",
      "1834           EAGLE ACADEMY CHARTER SCHOOL      1  \n",
      "1839                FRONTIER CHARTER SCHOOL      1  \n",
      "1844      HIGHLAND TECH HIGH CHARTER SCHOOL      1  \n",
      "1851            RILKE SCHULE CHARTER SCHOOL      1  \n",
      "1852  ALASKA NATIVE CULTURAL CHARTER SCHOOL      1  \n",
      "1651                    AYAPRUN ELITNAURVIK      1  \n",
      "2024      CHINOOK MONTESSORI CHARTER SCHOOL      1  \n"
     ]
    }
   ],
   "source": [
    "# Sort data by county id 'CONUM', then export datafrane to csv as result\n",
    "subset1_result = subset1_result.sort_values(by = \"CONUM\")\n",
    "print subset1_result[:10]\n",
    "subset1_result.to_csv(\"result1.csv\", index = False)"
   ]
  },
  {
   "cell_type": "markdown",
   "metadata": {},
   "source": [
    "#### 2. number of schools in each district, broken down by school type and state (Count, Type and State)"
   ]
  },
  {
   "cell_type": "code",
   "execution_count": 9,
   "metadata": {
    "collapsed": true
   },
   "outputs": [],
   "source": [
    "# A school district is also referred to as a Local Education Agency (LEA)"
   ]
  },
  {
   "cell_type": "code",
   "execution_count": 10,
   "metadata": {
    "collapsed": false
   },
   "outputs": [
    {
     "name": "stdout",
     "output_type": "stream",
     "text": [
      "['AL' 'AK' 'AZ' 'AR' 'CA' 'CO' 'CT' 'DE' 'DC' 'MD' 'FL' 'GA' 'HI' 'ID' 'OR'\n",
      " 'IL' 'IN' 'IA' 'KS' 'KY' 'LA' 'ME' 'MA' 'MI' 'MN' 'MS' 'MO' 'MT' 'NE' 'NV'\n",
      " 'NH' 'NJ' 'NM' 'NY' 'NC' 'ND' 'OH' 'PA' 'OK' 'RI' 'SC' 'SD' 'TN' 'TX' 'UT'\n",
      " 'VT' 'VA' 'WA' 'WV' 'WI' 'WY' 'AS' 'AE' 'AP' 'PR' 'GU' 'MP' 'VI']\n",
      "58\n",
      "\n",
      "[4 1 3 2 5]\n"
     ]
    }
   ],
   "source": [
    "# Check Unique Values of 'States' - column 'LSTATE' means state of school location \n",
    "print df_school['LSTATE'].unique()\n",
    "print len(df_school['LSTATE'].unique())\n",
    "\n",
    "# Check school type unique values\n",
    "print\n",
    "print df_school['TYPE'].unique()"
   ]
  },
  {
   "cell_type": "code",
   "execution_count": 11,
   "metadata": {
    "collapsed": false
   },
   "outputs": [
    {
     "name": "stdout",
     "output_type": "stream",
     "text": [
      "(102815, 3)\n"
     ]
    }
   ],
   "source": [
    "# Only keep columns'LEAID' (LEA id), 'LSTATE' (Location State (P.O. Abbreviation) and 'TYPE' (School Type Code)\n",
    "subset2 = df_school[['LEAID', 'LSTATE', 'TYPE']]\n",
    "print subset2.shape"
   ]
  },
  {
   "cell_type": "code",
   "execution_count": 12,
   "metadata": {
    "collapsed": false
   },
   "outputs": [],
   "source": [
    "# for loop to count school numbers\n",
    "# c is state indicator, d is school type indicator\n",
    "# store data in final result dataframe subset2_result\n",
    "\n",
    "c = ''\n",
    "d = 0\n",
    "subset2_result = pd.DataFrame()\n",
    "\n",
    "# for loop of states\n",
    "for c in subset2['LSTATE'].unique():\n",
    "    subset2_state = subset2[(subset2['LSTATE'] == c)]\n",
    "    \n",
    "    # for loop of schooltype:\n",
    "    for d in xrange(1, 6):\n",
    "        subset2_schooltype = subset2_state[(subset2_state['TYPE'] == d)]\n",
    "        \n",
    "        # Count school districts\n",
    "        subset2_district = subset2_schooltype['LEAID'].value_counts()\n",
    "        subset2_1 = subset2_district.reset_index()\n",
    "        subset2_2 = subset2_1.rename(columns={'index':'LEAID', 'LEAID':'Count'})\n",
    "        subset2_3 = subset2_2.sort_values(by = 'LEAID')\n",
    "        \n",
    "        # Add state and school type info and store result to final dataframe\n",
    "        # Add the 'STATE' column as the first column from the left and 'TYPE' as second column from the left\n",
    "        subset2_3.insert(0, 'STATE', c)\n",
    "        subset2_3.insert(1, 'TYPE', d)\n",
    "        subset2_result = pd.concat([subset2_result, subset2_3])"
   ]
  },
  {
   "cell_type": "code",
   "execution_count": 13,
   "metadata": {
    "collapsed": false
   },
   "outputs": [
    {
     "name": "stdout",
     "output_type": "stream",
     "text": [
      "(21510, 4)\n",
      "    STATE  TYPE   LEAID  Count\n",
      "139    AL     1  100002      1\n",
      "78     AL     1  100005      6\n",
      "24     AL     1  100006     14\n",
      "20     AL     1  100007     16\n",
      "33     AL     1  100008     11\n",
      "120    AL     1  100011      3\n",
      "91     AL     1  100012      5\n",
      "93     AL     1  100013      4\n",
      "136    AL     1  100016      1\n",
      "137    AL     1  100028      1\n",
      "   STATE  TYPE   LEAID  Count\n",
      "2     AL     4  100002      6\n",
      "29    AL     4  100006      1\n",
      "28    AL     4  100007      1\n",
      "26    AL     4  100009      1\n",
      "11    AL     4  100015      2\n",
      "20    AL     4  100018      1\n",
      "23    AL     4  100020      1\n",
      "42    AL     4  100035      1\n",
      "66    AL     4  100038      1\n",
      "64    AL     4  100044      1\n"
     ]
    }
   ],
   "source": [
    "# Export datafrane to csv as result\n",
    "print subset2_result.shape\n",
    "print subset2_result[:10]\n",
    "print subset2_result[231 : 241]\n",
    "subset2_result.to_csv(\"result2.csv\", index = False)"
   ]
  },
  {
   "cell_type": "markdown",
   "metadata": {},
   "source": [
    "#### 3. districts with Special Education schools that have been opened since the time of the last report (District Name and NCES id)"
   ]
  },
  {
   "cell_type": "code",
   "execution_count": 14,
   "metadata": {
    "collapsed": false
   },
   "outputs": [
    {
     "data": {
      "text/plain": [
       "(102815, 4)"
      ]
     },
     "execution_count": 14,
     "metadata": {},
     "output_type": "execute_result"
    }
   ],
   "source": [
    "# Only keep column 'TYPE' (School Type Code), 'STATUS' (Operation Status Code), 'NCESSCH' (NCES id) and 'LEANM' (dsitrict name)\n",
    "subset3 = df_school[['TYPE', 'STATUS', 'NCESSCH', 'LEANM']]\n",
    "subset3.shape"
   ]
  },
  {
   "cell_type": "code",
   "execution_count": 15,
   "metadata": {
    "collapsed": false
   },
   "outputs": [
    {
     "data": {
      "text/plain": [
       "(55, 4)"
      ]
     },
     "execution_count": 15,
     "metadata": {},
     "output_type": "execute_result"
    }
   ],
   "source": [
    "# Special Education School - School Type Code 'TYPE' == 2\n",
    "# Have been opened since the time of the last report - Operation Status Code 'STATUS' == 3\n",
    "# Slice data accordingly\n",
    "\n",
    "subset3_result = subset3[(subset3['TYPE'] == 2) & (subset3['STATUS'] == 3)]\n",
    "subset3_result.shape"
   ]
  },
  {
   "cell_type": "code",
   "execution_count": 16,
   "metadata": {
    "collapsed": false
   },
   "outputs": [
    {
     "name": "stdout",
     "output_type": "stream",
     "text": [
      "       TYPE  STATUS      NCESSCH                            LEANM\n",
      "6937      2       3  60363013672                 BAKERSFIELD CITY\n",
      "8896      2       3  61440013675                  FREMONT UNIFIED\n",
      "9281      2       3  61623013677             GROSSMONT UNION HIGH\n",
      "9282      2       3  61623013711             GROSSMONT UNION HIGH\n",
      "15824     2       3  69101413724  LAKE COUNTY OFFICE OF EDUCATION\n"
     ]
    }
   ],
   "source": [
    "# Export datafrane to csv as result\n",
    "print subset3_result.head()\n",
    "subset3_result.to_csv(\"result3.csv\", index = False)"
   ]
  },
  {
   "cell_type": "markdown",
   "metadata": {},
   "source": [
    "#### 4. Top 10 states by number of schools"
   ]
  },
  {
   "cell_type": "code",
   "execution_count": 17,
   "metadata": {
    "collapsed": false
   },
   "outputs": [
    {
     "name": "stdout",
     "output_type": "stream",
     "text": [
      "CA    10462\n",
      "TX     9336\n",
      "NY     4910\n",
      "FL     4416\n",
      "IL     4304\n",
      "OH     3783\n",
      "MI     3678\n",
      "PA     3173\n",
      "NC     2654\n",
      "NJ     2615\n",
      "Name: LSTATE, dtype: int64\n"
     ]
    }
   ],
   "source": [
    "# Count the times each state's name appears in the record\n",
    "# Find top 10 states\n",
    "subset4 = df_school[\"LSTATE\"].value_counts()[:10]\n",
    "print subset4"
   ]
  },
  {
   "cell_type": "code",
   "execution_count": 18,
   "metadata": {
    "collapsed": true
   },
   "outputs": [],
   "source": [
    "# Export result as csv\n",
    "subset4.to_csv(\"result4.csv\")"
   ]
  },
  {
   "cell_type": "markdown",
   "metadata": {},
   "source": [
    "Using the LEA Finance Survey from NCES Common Core of Data:"
   ]
  },
  {
   "cell_type": "markdown",
   "metadata": {},
   "source": [
    "#### 5. Top 10 districts in each state by field ‘E13 - CURRENT EXPENDITURES - INSTRUCTION’"
   ]
  },
  {
   "cell_type": "code",
   "execution_count": 19,
   "metadata": {
    "collapsed": true
   },
   "outputs": [],
   "source": [
    "# Dataset:\n",
    "# NCES Annual CCD file - Finance - School District (LEA) - Year 2012 to 2013\n",
    "# https://nces.ed.gov/ccd/f33agency.asp\n",
    "# Name of data file downloaded is 'sdf13_1a.txt' "
   ]
  },
  {
   "cell_type": "code",
   "execution_count": 20,
   "metadata": {
    "collapsed": false
   },
   "outputs": [
    {
     "name": "stdout",
     "output_type": "stream",
     "text": [
      "    LEAID        CENSUSID  FIPST  CONUM  CSA   CBSA                    NAME  \\\n",
      "0  100002               N      1   1101    N  33860  ALABAMA YOUTH SERVICES   \n",
      "1  100005  01504840100000      1   1095  290  10700        ALBERTVILLE CITY   \n",
      "2  100006  01504800100000      1   1095  290  10700         MARSHALL COUNTY   \n",
      "3  100007  01503740100000      1   1073  142  13820             HOOVER CITY   \n",
      "4  100008  01504530100000      1   1089  290  26620            MADISON CITY   \n",
      "\n",
      "    STNAME STABBR SCHLEV   ...   FL_31F  FL_41F  FL_61V  FL_66V FL_W01 FL_W31  \\\n",
      "0  Alabama     AL      N   ...        M       M       M       M      M      M   \n",
      "1  Alabama     AL     03   ...        R       I       M       M      R      R   \n",
      "2  Alabama     AL     03   ...        R       I       M       M      R      R   \n",
      "3  Alabama     AL     03   ...        R       I       M       M      R      R   \n",
      "4  Alabama     AL     03   ...        R       I       M       M      R      R   \n",
      "\n",
      "   FL_W61  FL_HR1  FL_HE1  FL_HE2  \n",
      "0       M       M       M       M  \n",
      "1       R       M       M       M  \n",
      "2       R       R       R       R  \n",
      "3       R       M       M       M  \n",
      "4       R       M       M       M  \n",
      "\n",
      "[5 rows x 256 columns]\n",
      "(18477, 256)\n"
     ]
    },
    {
     "name": "stderr",
     "output_type": "stream",
     "text": [
      "C:\\Users\\jhuan\\Anaconda2\\lib\\site-packages\\IPython\\core\\interactiveshell.py:2723: DtypeWarning: Columns (0,10,15) have mixed types. Specify dtype option on import or set low_memory=False.\n",
      "  interactivity=interactivity, compiler=compiler, result=result)\n"
     ]
    }
   ],
   "source": [
    "# Read file\n",
    "df_LEAFinance = pd.read_table('sdf13_1a.txt')\n",
    "print df_LEAFinance.head()\n",
    "print df_LEAFinance.shape"
   ]
  },
  {
   "cell_type": "code",
   "execution_count": 21,
   "metadata": {
    "collapsed": false
   },
   "outputs": [
    {
     "name": "stdout",
     "output_type": "stream",
     "text": [
      "['Alabama' 'Alaska' 'Arizona' 'Arkansas' 'California' 'Colorado'\n",
      " 'Connecticut' 'Delaware' 'District of Columbia' 'Florida' 'Georgia'\n",
      " 'Hawaii' 'Idaho' 'Illinois' 'Indiana' 'Iowa' 'Kansas' 'Kentucky'\n",
      " 'Louisiana' 'Maine' 'Maryland' 'Massachusetts' 'Michigan' 'Minnesota'\n",
      " 'Mississippi' 'Missouri' 'Montana' 'Nebraska' 'Nevada' 'New Hampshire'\n",
      " 'New Jersey' 'New Mexico' 'New York' 'North Carolina' 'North Dakota'\n",
      " 'Ohio' 'Oklahoma' 'Oregon' 'Pennsylvania' 'Rhode Island' 'South Carolina'\n",
      " 'South Dakota' 'Tennessee' 'Texas' 'Utah' 'Vermont' 'Virginia'\n",
      " 'Washington' 'West Virginia' 'Wisconsin' 'Wyoming']\n",
      "\n",
      "51\n"
     ]
    }
   ],
   "source": [
    "# Check Unique Values of 'States' - column 'STNAME'\n",
    "print df_LEAFinance['STNAME'].unique()\n",
    "print\n",
    "print len(df_LEAFinance['STNAME'].unique())"
   ]
  },
  {
   "cell_type": "code",
   "execution_count": 22,
   "metadata": {
    "collapsed": false
   },
   "outputs": [
    {
     "name": "stdout",
     "output_type": "stream",
     "text": [
      "    LEAID                    NAME   STNAME       E13\n",
      "0  100002  ALABAMA YOUTH SERVICES  Alabama        -1\n",
      "1  100005        ALBERTVILLE CITY  Alabama  20625000\n",
      "2  100006         MARSHALL COUNTY  Alabama  27095000\n",
      "3  100007             HOOVER CITY  Alabama  88840000\n",
      "4  100008            MADISON CITY  Alabama  49283000\n"
     ]
    },
    {
     "data": {
      "text/plain": [
       "(18477, 4)"
      ]
     },
     "execution_count": 22,
     "metadata": {},
     "output_type": "execute_result"
    }
   ],
   "source": [
    "# Only keep column 'LEAID' (School District ID), 'NAME' (School District Name), 'STNAME' (State Name), and 'E13' (CURRENT EXPENDITURES - INSTRUCTION)\n",
    "subset5 = df_LEAFinance[['LEAID', 'NAME', 'STNAME', 'E13']]\n",
    "print subset5.head()\n",
    "subset5.shape"
   ]
  },
  {
   "cell_type": "code",
   "execution_count": 23,
   "metadata": {
    "collapsed": false
   },
   "outputs": [
    {
     "name": "stdout",
     "output_type": "stream",
     "text": [
      "(501, 4)\n",
      "      LEAID                                          NAME   STNAME        E13\n",
      "129  102370                                 MOBILE COUNTY  Alabama  273846000\n",
      "115  101920                              JEFFERSON COUNTY  Alabama  179942000\n",
      "131  102430                             MONTGOMERY COUNTY  Alabama  147137000\n",
      "153  103030                                 SHELBY COUNTY  Alabama  139977000\n",
      "57   100270                                BALDWIN COUNTY  Alabama  139776000\n",
      "61   100390                               BIRMINGHAM CITY  Alabama  136788000\n",
      "111  101800                               HUNTSVILLE CITY  Alabama  133368000\n",
      "125  102220                                MADISON COUNTY  Alabama   94079000\n",
      "3    100007                                   HOOVER CITY  Alabama   88840000\n",
      "165  103390                             TUSCALOOSA COUNTY  Alabama   79399000\n",
      "190  200180                     ANCHORAGE SCHOOL DISTRICT   Alaska  439272000\n",
      "201  200510     MATANUSKA-SUSITNA BOROUGH SCHOOL DISTRICT   Alaska  153678000\n",
      "206  200600  FAIRBANKS NORTH STAR BOROUGH SCHOOL DISTRICT   Alaska  146734000\n",
      "197  200390       KENAI PENINSULA BOROUGH SCHOOL DISTRICT   Alaska   95225000\n",
      "173  200001               LOWER KUSKOKWIM SCHOOL DISTRICT   Alaska   54785000\n"
     ]
    }
   ],
   "source": [
    "# for loop for each state to sort top 10 districts by 'E13'\n",
    "\n",
    "# e as state indicator\n",
    "e = ''\n",
    "# subset5_result as dataframe to store final result\n",
    "subset5_result = pd.DataFrame()\n",
    "\n",
    "for e in df_LEAFinance['STNAME'].unique():\n",
    "    subset5_state = subset5[(subset5['STNAME'] == e)]\n",
    "    \n",
    "    #Sort 'E13' descendingly to get top 10\n",
    "    subset5_sorted = subset5_state.sort_values(by = 'E13', ascending = False)\n",
    "    subset5_top10 = subset5_sorted[:10]\n",
    "    \n",
    "    #Store result to dataframe g\n",
    "    subset5_result = pd.concat([subset5_result, subset5_top10])\n",
    "print subset5_result.shape\n",
    "print subset5_result[:15]"
   ]
  },
  {
   "cell_type": "code",
   "execution_count": 24,
   "metadata": {
    "collapsed": true
   },
   "outputs": [],
   "source": [
    "# Note: The reason that result g dataframe has only 501 records instead of 510 (51*10) is 'Hawaii' state has only one record \n",
    "# (LEAID: 1500030, Hawaii Department of Education)"
   ]
  },
  {
   "cell_type": "code",
   "execution_count": 25,
   "metadata": {
    "collapsed": false
   },
   "outputs": [],
   "source": [
    "subset5_result.to_csv(\"result5.csv\", index = False)"
   ]
  },
  {
   "cell_type": "markdown",
   "metadata": {},
   "source": [
    "#### 6. Top 10 districts in each state by total of fields E13, E17, E07, E08, E09, V85, V65, V93"
   ]
  },
  {
   "cell_type": "code",
   "execution_count": 26,
   "metadata": {
    "collapsed": false
   },
   "outputs": [
    {
     "name": "stdout",
     "output_type": "stream",
     "text": [
      "    LEAID                    NAME   STNAME       E13      E17      E07  \\\n",
      "0  100002  ALABAMA YOUTH SERVICES  Alabama        -1       -1       -1   \n",
      "1  100005        ALBERTVILLE CITY  Alabama  20625000  2119000   777000   \n",
      "2  100006         MARSHALL COUNTY  Alabama  27095000  3179000  2568000   \n",
      "3  100007             HOOVER CITY  Alabama  88840000  7940000  5923000   \n",
      "4  100008            MADISON CITY  Alabama  49283000  5324000  5520000   \n",
      "\n",
      "       E08      E09  V85  V65      V93  \n",
      "0       -1       -1   -1   -1       -1  \n",
      "1  1231000  2205000    0    0   248000  \n",
      "2  1614000  3578000    0    0   474000  \n",
      "3  1530000  9165000    0    0  1289000  \n",
      "4  1173000  4460000    0    0  1777000  \n"
     ]
    },
    {
     "data": {
      "text/plain": [
       "(18477, 11)"
      ]
     },
     "execution_count": 26,
     "metadata": {},
     "output_type": "execute_result"
    }
   ],
   "source": [
    "# Only keep column 'LEAID' (School District ID), 'NAME' (School District Name), 'STNAME' (State Name), \n",
    "# And 'E13', 'E17', 'E07', 'E08', 'E09', 'V85', 'V65', 'V93')\n",
    "subset6 = df_LEAFinance[['LEAID', 'NAME', 'STNAME', 'E13', 'E17', 'E07', 'E08', 'E09', 'V85', 'V65', 'V93']]\n",
    "print subset6.head()\n",
    "subset6.shape"
   ]
  },
  {
   "cell_type": "code",
   "execution_count": 27,
   "metadata": {
    "collapsed": false
   },
   "outputs": [
    {
     "name": "stdout",
     "output_type": "stream",
     "text": [
      "    LEAID                    NAME   STNAME       E13      E17      E07  \\\n",
      "0  100002  ALABAMA YOUTH SERVICES  Alabama        -1       -1       -1   \n",
      "1  100005        ALBERTVILLE CITY  Alabama  20625000  2119000   777000   \n",
      "2  100006         MARSHALL COUNTY  Alabama  27095000  3179000  2568000   \n",
      "3  100007             HOOVER CITY  Alabama  88840000  7940000  5923000   \n",
      "4  100008            MADISON CITY  Alabama  49283000  5324000  5520000   \n",
      "5  100009  AL INST DEAF AND BLIND  Alabama        -2       -2       -2   \n",
      "6  100011              LEEDS CITY  Alabama   8514000   867000   416000   \n",
      "7  100012               BOAZ CITY  Alabama  10758000   975000   868000   \n",
      "8  100013         TRUSSVILLE CITY  Alabama  21265000  2221000  1298000   \n",
      "9  100015       SAFETYNET ACADEMY  Alabama        -2       -2       -2   \n",
      "\n",
      "       E08      E09  V85  V65      V93        Sum  \n",
      "0       -1       -1   -1   -1       -1         -8  \n",
      "1  1231000  2205000    0    0   248000   27205000  \n",
      "2  1614000  3578000    0    0   474000   38508000  \n",
      "3  1530000  9165000    0    0  1289000  114687000  \n",
      "4  1173000  4460000    0    0  1777000   67537000  \n",
      "5       -2       -2   -2   -2       -2        -16  \n",
      "6   321000   937000    0    0   113000   11168000  \n",
      "7   771000  1252000    0    0    50000   14674000  \n",
      "8  1308000  2022000    0    0   212000   28326000  \n",
      "9       -2       -2   -2   -2       -2        -16  \n"
     ]
    },
    {
     "name": "stderr",
     "output_type": "stream",
     "text": [
      "C:\\Users\\jhuan\\Anaconda2\\lib\\site-packages\\pandas\\core\\indexing.py:284: SettingWithCopyWarning: \n",
      "A value is trying to be set on a copy of a slice from a DataFrame.\n",
      "Try using .loc[row_indexer,col_indexer] = value instead\n",
      "\n",
      "See the caveats in the documentation: http://pandas.pydata.org/pandas-docs/stable/indexing.html#indexing-view-versus-copy\n",
      "  self.obj[key] = _infer_fill_value(value)\n",
      "C:\\Users\\jhuan\\Anaconda2\\lib\\site-packages\\pandas\\core\\indexing.py:461: SettingWithCopyWarning: \n",
      "A value is trying to be set on a copy of a slice from a DataFrame.\n",
      "Try using .loc[row_indexer,col_indexer] = value instead\n",
      "\n",
      "See the caveats in the documentation: http://pandas.pydata.org/pandas-docs/stable/indexing.html#indexing-view-versus-copy\n",
      "  self.obj[item] = s\n"
     ]
    }
   ],
   "source": [
    "# Create a column named 'Sum' as total of fields E13, E17, E07, E08, E09, V85, V65, V93\n",
    "# Use dataframe sum function, set 'axis = 1' to get total of row\n",
    "subset6.loc[:, 'Sum'] = subset6[['E13', 'E17', 'E07', 'E08', 'E09', 'V85', 'V65', 'V93']].sum(axis = 1)\n",
    "print subset6[:10]"
   ]
  },
  {
   "cell_type": "code",
   "execution_count": 28,
   "metadata": {
    "collapsed": false
   },
   "outputs": [
    {
     "name": "stdout",
     "output_type": "stream",
     "text": [
      "(501, 12)\n",
      "      LEAID                                          NAME   STNAME        E13  \\\n",
      "129  102370                                 MOBILE COUNTY  Alabama  273846000   \n",
      "115  101920                              JEFFERSON COUNTY  Alabama  179942000   \n",
      "131  102430                             MONTGOMERY COUNTY  Alabama  147137000   \n",
      "61   100390                               BIRMINGHAM CITY  Alabama  136788000   \n",
      "57   100270                                BALDWIN COUNTY  Alabama  139776000   \n",
      "153  103030                                 SHELBY COUNTY  Alabama  139977000   \n",
      "111  101800                               HUNTSVILLE CITY  Alabama  133368000   \n",
      "125  102220                                MADISON COUNTY  Alabama   94079000   \n",
      "3    100007                                   HOOVER CITY  Alabama   88840000   \n",
      "165  103390                             TUSCALOOSA COUNTY  Alabama   79399000   \n",
      "190  200180                     ANCHORAGE SCHOOL DISTRICT   Alaska  439272000   \n",
      "201  200510     MATANUSKA-SUSITNA BOROUGH SCHOOL DISTRICT   Alaska  153678000   \n",
      "206  200600  FAIRBANKS NORTH STAR BOROUGH SCHOOL DISTRICT   Alaska  146734000   \n",
      "197  200390       KENAI PENINSULA BOROUGH SCHOOL DISTRICT   Alaska   95225000   \n",
      "173  200001               LOWER KUSKOKWIM SCHOOL DISTRICT   Alaska   54785000   \n",
      "\n",
      "          E17       E07      E08       E09  V85  V65      V93        Sum  \n",
      "129  29107000  26689000  7050000  27828000    0    0  1925000  366445000  \n",
      "115  18166000  12175000  4719000  24069000    0    0  2579000  241650000  \n",
      "131  16222000  16731000  3745000  13673000    0    0  1469000  198977000  \n",
      "61   13336000  17997000  3682000  15235000    0    0  2048000  189086000  \n",
      "57   13267000  10639000  3707000  15685000    0    0  1066000  184140000  \n",
      "153  12384000  12795000  2447000  15080000    0    0  1396000  184079000  \n",
      "111  10128000  14767000  4272000  15559000    0    0   217000  178311000  \n",
      "125   8397000   7355000  1502000  10879000    0    0  2295000  124507000  \n",
      "3     7940000   5923000  1530000   9165000    0    0  1289000  114687000  \n",
      "165  10257000   4553000  2138000   9900000    0    0   653000  106900000  \n",
      "190  86049000  36873000  4855000  43533000    0    0        0  610582000  \n",
      "201  24483000  12870000  2479000  18513000    0    0        0  212023000  \n",
      "206  25548000  12687000  2396000  14118000    0    0        0  201483000  \n",
      "197  10864000   3469000  1128000  12055000    0    0        0  122741000  \n",
      "173   4472000  30521000   734000   8642000    0    0        0   99154000  \n"
     ]
    }
   ],
   "source": [
    "# for loop for each state to sort top 10 districts by 'Sum'\n",
    "\n",
    "# g as state indicator\n",
    "g = ''\n",
    "# subset6_result as dataframe to store final result\n",
    "subset6_result = pd.DataFrame()\n",
    "\n",
    "for g in df_LEAFinance['STNAME'].unique():\n",
    "    subset6_state = subset6[(subset6['STNAME'] == g)]\n",
    "    \n",
    "    #Sort 'Sum' descendingly to get top 10\n",
    "    subset6_sorted = subset6_state.sort_values(by = 'Sum', ascending = False)\n",
    "    subset6_top10 = subset6_sorted[:10]\n",
    "    \n",
    "    #Store result to dataframe g\n",
    "    subset6_result = pd.concat([subset6_result, subset6_top10])\n",
    "print subset6_result.shape\n",
    "print subset6_result[:15]"
   ]
  },
  {
   "cell_type": "code",
   "execution_count": 29,
   "metadata": {
    "collapsed": true
   },
   "outputs": [],
   "source": [
    "# Note: The reason that result i dataframe has 501 records is the same as task 5: Hawaii has only one record.\n",
    "# (LEAID: 1500030, Hawaii Department of Education)"
   ]
  },
  {
   "cell_type": "code",
   "execution_count": 30,
   "metadata": {
    "collapsed": true
   },
   "outputs": [],
   "source": [
    "subset6_result.to_csv(\"result6.csv\", index = False)"
   ]
  },
  {
   "cell_type": "markdown",
   "metadata": {},
   "source": [
    "### Data Visualization    \n",
    "\n",
    "#### * Histogram - Count of districts by type"
   ]
  },
  {
   "cell_type": "code",
   "execution_count": 31,
   "metadata": {
    "collapsed": true
   },
   "outputs": [],
   "source": [
    "# Choosing dataset:\n",
    "# NCES Annual CCD file - Universe Surveys - School District (LEA) - Year 2013 to 2014\n",
    "# https://nces.ed.gov/ccd/pubagency.asp\n",
    "# Name of data file downloaded is 'ag131a_supp.txt' "
   ]
  },
  {
   "cell_type": "code",
   "execution_count": 32,
   "metadata": {
    "collapsed": false
   },
   "outputs": [
    {
     "name": "stdout",
     "output_type": "stream",
     "text": [
      "   SURVYEAR   LEAID  FIPST STID                    NAME       PHONE  \\\n",
      "0      2013  100002      1  210  ALABAMA YOUTH SERVICES  3342153850   \n",
      "1      2013  100005      1  101        ALBERTVILLE CITY  2568911183   \n",
      "2      2013  100006      1   48         MARSHALL COUNTY  2565823171   \n",
      "3      2013  100007      1  158             HOOVER CITY  2054391015   \n",
      "4      2013  100008      1  169            MADISON CITY  2564648370   \n",
      "\n",
      "                   MSTREE         MCITY MSTATE   MZIP     ...      WHALM  \\\n",
      "0              P O BOX 66      MT MEIGS     AL  36057     ...         -1   \n",
      "1        107 WEST MAIN ST   ALBERTVILLE     AL  35950     ...       1272   \n",
      "2  12380 US HIGHWAY 431 S  GUNTERSVILLE     AL  35976     ...       2359   \n",
      "3   2810 METROPOLITAN WAY        HOOVER     AL  35243     ...       4332   \n",
      "4        211 CELTIC DRIVE       MADISON     AL  35758     ...       3131   \n",
      "\n",
      "  WHALF PACIFIC HPALM  HPALF   TR  TRALM TRALF TOTETH CHRTLEASTAT  \n",
      "0    -1      -1    -1     -1   -1     -1    -1     -1      NOTCHR  \n",
      "1  1351       2     1      1  100     49    51   4713      NOTCHR  \n",
      "2  2111       1     0      1   63     28    35   5604      NOTCHR  \n",
      "3  4007      21    11     10  398    203   195  13943      NOTCHR  \n",
      "4  3038      29    16     13  220     99   121   9554      NOTCHR  \n",
      "\n",
      "[5 rows x 339 columns]\n",
      "(18785, 339)\n"
     ]
    },
    {
     "name": "stderr",
     "output_type": "stream",
     "text": [
      "C:\\Users\\jhuan\\Anaconda2\\lib\\site-packages\\IPython\\core\\interactiveshell.py:2723: DtypeWarning: Columns (3,5,17,18,23,24) have mixed types. Specify dtype option on import or set low_memory=False.\n",
      "  interactivity=interactivity, compiler=compiler, result=result)\n"
     ]
    }
   ],
   "source": [
    "# Read file\n",
    "df_LEA = pd.read_table('ag131a_supp.txt')\n",
    "print df_LEA.head()\n",
    "print df_LEA.shape"
   ]
  },
  {
   "cell_type": "code",
   "execution_count": 33,
   "metadata": {
    "collapsed": false
   },
   "outputs": [
    {
     "name": "stdout",
     "output_type": "stream",
     "text": [
      "1    13078\n",
      "7     3005\n",
      "4     1352\n",
      "2      694\n",
      "5      267\n",
      "3      221\n",
      "8      149\n",
      "6       19\n",
      "Name: TYPE, dtype: int64\n",
      "\n",
      "   TYPE  Frequency\n",
      "0     1      13078\n",
      "3     2        694\n",
      "5     3        221\n",
      "2     4       1352\n",
      "4     5        267\n",
      "7     6         19\n",
      "1     7       3005\n",
      "6     8        149\n"
     ]
    }
   ],
   "source": [
    "# Statistical Preview - Provide configuration details for plot\n",
    "# Count column 'TYPE' (Education Agency Type Code) by values \n",
    "subset7 = df_LEA[\"TYPE\"].value_counts()\n",
    "\n",
    "# Reset index to reset 'TYPE' value in a column, rename columns and sort by 'TYPE' value\n",
    "subset7_1 = subset7.reset_index()\n",
    "subset7_2 = subset7_1.rename(columns={'index':'TYPE', 'TYPE':'Frequency'})\n",
    "subset7_3 = subset7_2.sort_values(by = 'TYPE')\n",
    "print subset7\n",
    "print\n",
    "print subset7_3"
   ]
  },
  {
   "cell_type": "code",
   "execution_count": 34,
   "metadata": {
    "collapsed": false
   },
   "outputs": [
    {
     "data": {
      "image/png": "[encoded data removed]",
      "text/plain": [
       "<matplotlib.figure.Figure at 0x160e6048>"
      ]
     },
     "metadata": {},
     "output_type": "display_data"
    }
   ],
   "source": [
    "# Plot Histogram: Count of districts by type\n",
    "\n",
    "#Configuration\n",
    "fig, ax = plt.subplots(figsize = (16, 10))\n",
    "ID = 'Hisogram - Count of districts by type'\n",
    "ax.set_title('%s' %ID)\n",
    "ax.set_xlabel('Type')\n",
    "ax.set_ylabel('Frequency')\n",
    "ax.set_xlim([1, 8])\n",
    "ax.set_ylim([0, 15000])\n",
    "\n",
    "#Plot Histrogram\n",
    "plt.hist(df_LEA[\"TYPE\"])\n",
    "\n",
    "# Save Plot\n",
    "filename = '7_%s.jpg' %ID\n",
    "plt.savefig(filename)"
   ]
  },
  {
   "cell_type": "markdown",
   "metadata": {},
   "source": [
    "#### * Count of schools by lowest grade offered"
   ]
  },
  {
   "cell_type": "code",
   "execution_count": 35,
   "metadata": {
    "collapsed": false
   },
   "outputs": [
    {
     "name": "stdout",
     "output_type": "stream",
     "text": [
      "PK    29405\n",
      "KG    25398\n",
      "09    16550\n",
      "06    12593\n",
      "07     6111\n",
      "N      3765\n",
      "05     2700\n",
      "03     1541\n",
      "04     1249\n",
      "01     1038\n",
      "10      770\n",
      "08      627\n",
      "02      605\n",
      "11      205\n",
      "12      137\n",
      "UG      121\n",
      "Name: GSLO, dtype: int64\n",
      "\n",
      "   GSLO  Frequency\n",
      "0    PK      29405\n",
      "1    KG      25398\n",
      "2    09      16550\n",
      "3    06      12593\n",
      "4    07       6111\n",
      "5     N       3765\n",
      "6    05       2700\n",
      "7    03       1541\n",
      "8    04       1249\n",
      "9    01       1038\n",
      "10   10        770\n",
      "11   08        627\n",
      "12   02        605\n",
      "13   11        205\n",
      "14   12        137\n",
      "15   UG        121\n"
     ]
    }
   ],
   "source": [
    "# Statistical Preview - Provide configuration details for plot\n",
    "# Count column 'GSLO' (School low grade offered) by values \n",
    "subset8 = df_school[\"GSLO\"].value_counts()\n",
    "\n",
    "# Reset index to reset 'TYPE' value in a column, rename columns and sort by 'TYPE' value\n",
    "subset8_1 = subset8.reset_index()\n",
    "subset8_2 = subset8_1.rename(columns={'index':'GSLO', 'GSLO':'Frequency'})\n",
    "subset8_3 = subset8_2.sort_values(by = 'Frequency', ascending = False)\n",
    "print subset8\n",
    "print\n",
    "print subset8_3"
   ]
  },
  {
   "cell_type": "code",
   "execution_count": 36,
   "metadata": {
    "collapsed": false
   },
   "outputs": [
    {
     "data": {
      "image/png": "[encoded data removed]",
      "text/plain": [
       "<matplotlib.figure.Figure at 0x106df0b8>"
      ]
     },
     "metadata": {},
     "output_type": "display_data"
    }
   ],
   "source": [
    "# Notice Grade 'KG', 'N', 'PK' and 'UG' are not numeric, use bar plot function here:\n",
    "# Plot: Count of schools by lowest grade offered\n",
    "\n",
    "#Configuration\n",
    "fig, ax = plt.subplots(figsize = (16, 10))\n",
    "ID = 'Count of schools by lowest grade offered'\n",
    "ax.set_title('%s' %ID)\n",
    "ax.set_xlabel('Lowest Grade')\n",
    "ax.set_ylabel('Frequency')\n",
    "#ax.set_xlim([1, 8])\n",
    "ax.set_ylim([0, 30000])\n",
    "\n",
    "\n",
    "#Plot\n",
    "df_school['GSLO'].value_counts().plot(kind= 'bar', width = 1)\n",
    "\n",
    "# Save Plot\n",
    "filename = '8_%s.jpg' %ID\n",
    "plt.savefig(filename)"
   ]
  },
  {
   "cell_type": "markdown",
   "metadata": {},
   "source": [
    "#### * Count of schools by highest grade offered"
   ]
  },
  {
   "cell_type": "code",
   "execution_count": 37,
   "metadata": {
    "collapsed": false
   },
   "outputs": [
    {
     "name": "stdout",
     "output_type": "stream",
     "text": [
      "05    26968\n",
      "12    26497\n",
      "08    21220\n",
      "06    12423\n",
      "04     3993\n",
      "N      3765\n",
      "02     1575\n",
      "03     1561\n",
      "09     1256\n",
      "PK     1208\n",
      "07      540\n",
      "KG      537\n",
      "01      532\n",
      "10      313\n",
      "11      306\n",
      "UG      121\n",
      "Name: GSHI, dtype: int64\n",
      "\n",
      "   GSHI  Frequency\n",
      "0    05      26968\n",
      "1    12      26497\n",
      "2    08      21220\n",
      "3    06      12423\n",
      "4    04       3993\n",
      "5     N       3765\n",
      "6    02       1575\n",
      "7    03       1561\n",
      "8    09       1256\n",
      "9    PK       1208\n",
      "10   07        540\n",
      "11   KG        537\n",
      "12   01        532\n",
      "13   10        313\n",
      "14   11        306\n",
      "15   UG        121\n"
     ]
    }
   ],
   "source": [
    "# Statistical Preview - Provide configuration details for plot\n",
    "# Count column 'GSHI' (School high grade offered) by values \n",
    "subset9 = df_school[\"GSHI\"].value_counts()\n",
    "\n",
    "# Reset index to reset 'TYPE' value in a column, rename columns and sort by 'TYPE' value\n",
    "subset9_1 = subset9.reset_index()\n",
    "subset9_2 = subset9_1.rename(columns={'index':'GSHI', 'GSHI':'Frequency'})\n",
    "subset9_3 = subset9_2.sort_values(by = 'Frequency', ascending = False)\n",
    "print subset9\n",
    "print\n",
    "print subset9_3"
   ]
  },
  {
   "cell_type": "code",
   "execution_count": 38,
   "metadata": {
    "collapsed": false
   },
   "outputs": [
    {
     "data": {
      "image/png": "[encoded data removed]",
      "text/plain": [
       "<matplotlib.figure.Figure at 0x2537d518>"
      ]
     },
     "metadata": {},
     "output_type": "display_data"
    }
   ],
   "source": [
    "# Notice Grade 'KG', 'N', 'PK' and 'UG' are not numeric, use bar plot function here:\n",
    "# Plot: Count of schools by highest grade offered\n",
    "\n",
    "#Configuration\n",
    "fig, ax = plt.subplots(figsize = (16, 10))\n",
    "ID = 'Count of schools by highest grade offered'\n",
    "ax.set_title('%s' %ID)\n",
    "ax.set_xlabel('Highest Grade')\n",
    "ax.set_ylabel('Frequency')\n",
    "ax.set_ylim([0, 30000])\n",
    "\n",
    "#Plot\n",
    "df_school['GSHI'].value_counts().plot(kind= 'bar', width = 1)\n",
    "\n",
    "# Save Plot\n",
    "filename = '9_%s.jpg' %ID\n",
    "plt.savefig(filename)"
   ]
  },
  {
   "cell_type": "markdown",
   "metadata": {},
   "source": [
    "#### Bar chart:\n",
    "\n",
    "* States by top district by ‘E13 - CURRENT EXPENDITURES - INSTRUCTION’"
   ]
  },
  {
   "cell_type": "code",
   "execution_count": 39,
   "metadata": {
    "collapsed": false
   },
   "outputs": [
    {
     "name": "stdout",
     "output_type": "stream",
     "text": [
      "    STNAME       E13\n",
      "0  Alabama        -1\n",
      "1  Alabama  20625000\n",
      "2  Alabama  27095000\n",
      "3  Alabama  88840000\n",
      "4  Alabama  49283000\n"
     ]
    },
    {
     "data": {
      "text/plain": [
       "(18477, 2)"
      ]
     },
     "execution_count": 39,
     "metadata": {},
     "output_type": "execute_result"
    }
   ],
   "source": [
    "# Use 'Finance - School District (LEA) - Year 2012 to 2013' data file in task 5\n",
    "# Only keep column 'STNAME' (State Name), and 'E13' (CURRENT EXPENDITURES - INSTRUCTION)\n",
    "subset10 = df_LEAFinance[['STNAME', 'E13']]\n",
    "print subset10.head()\n",
    "subset10.shape"
   ]
  },
  {
   "cell_type": "code",
   "execution_count": 40,
   "metadata": {
    "collapsed": false
   },
   "outputs": [],
   "source": [
    "statelist = []\n",
    "scorelist = []\n",
    "\n",
    "# Get top 'E13' score for each state\n",
    "for e in df_LEAFinance['STNAME'].unique():\n",
    "    statelist.append(e)\n",
    "    score = subset10['E13'][(subset10['STNAME'] == e)].max()\n",
    "    scorelist.append(score)"
   ]
  },
  {
   "cell_type": "code",
   "execution_count": 41,
   "metadata": {
    "collapsed": false
   },
   "outputs": [
    {
     "data": {
      "image/png": "[encoded data removed]",
      "text/plain": [
       "<matplotlib.figure.Figure at 0x241dc048>"
      ]
     },
     "metadata": {},
     "output_type": "display_data"
    }
   ],
   "source": [
    "# Plot: Bar Chart - States by top district by ‘E13 - CURRENT EXPENDITURES - INSTRUCTION’\n",
    "\n",
    "# Configuration\n",
    "fig, ax = plt.subplots(figsize = (16, 10))\n",
    "\n",
    "# Number of States on x-axis\n",
    "x_number = np.arange(len(statelist))\n",
    "\n",
    "ax.bar(x_number, scorelist, width = 1)\n",
    "\n",
    "ID = 'States by top district by E13 - CURRENT EXPENDITURES - INSTRUCTION'\n",
    "plt.title('%s' %ID)\n",
    "plt.xlabel('State')\n",
    "plt.ylabel('E13')\n",
    "plt.xlim(0, len(statelist))\n",
    "\n",
    "# Plus 0.5 (half the width as width equals 1) to put labels on center\n",
    "label_number = np.arange(len(statelist)) + 0.5\n",
    "plt.xticks(label_number, statelist, rotation='vertical')\n",
    "\n",
    "# Save Plot\n",
    "filename = '10_%s.jpg' %ID\n",
    "plt.savefig(filename)"
   ]
  }
 ],
 "metadata": {
  "kernelspec": {
   "display_name": "Python 2",
   "language": "python",
   "name": "python2"
  },
  "language_info": {
   "codemirror_mode": {
    "name": "ipython",
    "version": 2
   },
   "file_extension": ".py",
   "mimetype": "text/x-python",
   "name": "python",
   "nbconvert_exporter": "python",
   "pygments_lexer": "ipython2",
   "version": "2.7.11"
  }
 },
 "nbformat": 4,
 "nbformat_minor": 0
}
